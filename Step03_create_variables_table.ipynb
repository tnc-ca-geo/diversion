{
 "cells": [
  {
   "cell_type": "code",
   "execution_count": 1,
   "metadata": {},
   "outputs": [],
   "source": [
    "# Import data from sample files, modify, and export to new table"
   ]
  },
  {
   "cell_type": "code",
   "execution_count": 1,
   "metadata": {},
   "outputs": [],
   "source": [
    "import pandas as pd\n",
    "import os.path"
   ]
  },
  {
   "cell_type": "code",
   "execution_count": 2,
   "metadata": {},
   "outputs": [],
   "source": [
    "year = '2019'\n",
    "insample = os.path.join( os.getcwd(), 'samples\\\\variables.csv' )\n",
    "outname = os.path.join( os.getcwd(), '..', year, 'variables.csv' )"
   ]
  },
  {
   "cell_type": "code",
   "execution_count": 3,
   "metadata": {},
   "outputs": [],
   "source": [
    "df = pd.read_csv(insample)"
   ]
  },
  {
   "cell_type": "code",
   "execution_count": 4,
   "metadata": {},
   "outputs": [
    {
     "data": {
      "text/html": [
       "<div>\n",
       "<style scoped>\n",
       "    .dataframe tbody tr th:only-of-type {\n",
       "        vertical-align: middle;\n",
       "    }\n",
       "\n",
       "    .dataframe tbody tr th {\n",
       "        vertical-align: top;\n",
       "    }\n",
       "\n",
       "    .dataframe thead th {\n",
       "        text-align: right;\n",
       "    }\n",
       "</style>\n",
       "<table border=\"1\" class=\"dataframe\">\n",
       "  <thead>\n",
       "    <tr style=\"text-align: right;\">\n",
       "      <th></th>\n",
       "      <th>VariableCode</th>\n",
       "      <th>VariableName</th>\n",
       "      <th>Speciation</th>\n",
       "      <th>VariableUnitsName</th>\n",
       "      <th>SampleMedium</th>\n",
       "      <th>ValueType</th>\n",
       "      <th>IsRegular</th>\n",
       "      <th>TimeSupport</th>\n",
       "      <th>TimeUnitsName</th>\n",
       "      <th>DataType</th>\n",
       "      <th>GeneralCategory</th>\n",
       "      <th>NoDataValue</th>\n",
       "    </tr>\n",
       "  </thead>\n",
       "  <tbody>\n",
       "    <tr>\n",
       "      <th>0</th>\n",
       "      <td>GPM_2min</td>\n",
       "      <td>Discharge</td>\n",
       "      <td>Not Applicable</td>\n",
       "      <td>gallons per minute</td>\n",
       "      <td>Surface water</td>\n",
       "      <td>Field Observation</td>\n",
       "      <td>True</td>\n",
       "      <td>2</td>\n",
       "      <td>minute</td>\n",
       "      <td>Continuous</td>\n",
       "      <td>Hydrology</td>\n",
       "      <td>-9999</td>\n",
       "    </tr>\n",
       "    <tr>\n",
       "      <th>1</th>\n",
       "      <td>GPM_5min</td>\n",
       "      <td>Discharge</td>\n",
       "      <td>Not Applicable</td>\n",
       "      <td>gallons per minute</td>\n",
       "      <td>Surface water</td>\n",
       "      <td>Field Observation</td>\n",
       "      <td>True</td>\n",
       "      <td>5</td>\n",
       "      <td>minute</td>\n",
       "      <td>Continuous</td>\n",
       "      <td>Hydrology</td>\n",
       "      <td>-9999</td>\n",
       "    </tr>\n",
       "    <tr>\n",
       "      <th>2</th>\n",
       "      <td>GPM_15min</td>\n",
       "      <td>Discharge</td>\n",
       "      <td>Not Applicable</td>\n",
       "      <td>gallons per minute</td>\n",
       "      <td>Surface water</td>\n",
       "      <td>Field Observation</td>\n",
       "      <td>True</td>\n",
       "      <td>15</td>\n",
       "      <td>minute</td>\n",
       "      <td>Continuous</td>\n",
       "      <td>Hydrology</td>\n",
       "      <td>-9999</td>\n",
       "    </tr>\n",
       "  </tbody>\n",
       "</table>\n",
       "</div>"
      ],
      "text/plain": [
       "  VariableCode VariableName      Speciation   VariableUnitsName  \\\n",
       "0     GPM_2min    Discharge  Not Applicable  gallons per minute   \n",
       "1     GPM_5min    Discharge  Not Applicable  gallons per minute   \n",
       "2    GPM_15min    Discharge  Not Applicable  gallons per minute   \n",
       "\n",
       "    SampleMedium          ValueType  IsRegular  TimeSupport TimeUnitsName  \\\n",
       "0  Surface water  Field Observation       True            2        minute   \n",
       "1  Surface water  Field Observation       True            5        minute   \n",
       "2  Surface water  Field Observation       True           15        minute   \n",
       "\n",
       "     DataType GeneralCategory  NoDataValue  \n",
       "0  Continuous       Hydrology        -9999  \n",
       "1  Continuous       Hydrology        -9999  \n",
       "2  Continuous       Hydrology        -9999  "
      ]
     },
     "execution_count": 4,
     "metadata": {},
     "output_type": "execute_result"
    }
   ],
   "source": [
    "df"
   ]
  },
  {
   "cell_type": "code",
   "execution_count": 5,
   "metadata": {},
   "outputs": [
    {
     "data": {
      "text/html": [
       "<div>\n",
       "<style scoped>\n",
       "    .dataframe tbody tr th:only-of-type {\n",
       "        vertical-align: middle;\n",
       "    }\n",
       "\n",
       "    .dataframe tbody tr th {\n",
       "        vertical-align: top;\n",
       "    }\n",
       "\n",
       "    .dataframe thead th {\n",
       "        text-align: right;\n",
       "    }\n",
       "</style>\n",
       "<table border=\"1\" class=\"dataframe\">\n",
       "  <thead>\n",
       "    <tr style=\"text-align: right;\">\n",
       "      <th></th>\n",
       "      <th>VariableCode</th>\n",
       "      <th>VariableName</th>\n",
       "      <th>Speciation</th>\n",
       "      <th>VariableUnitsName</th>\n",
       "      <th>SampleMedium</th>\n",
       "      <th>ValueType</th>\n",
       "      <th>IsRegular</th>\n",
       "      <th>TimeSupport</th>\n",
       "      <th>TimeUnitsName</th>\n",
       "      <th>DataType</th>\n",
       "      <th>GeneralCategory</th>\n",
       "      <th>NoDataValue</th>\n",
       "    </tr>\n",
       "  </thead>\n",
       "  <tbody>\n",
       "    <tr>\n",
       "      <th>1</th>\n",
       "      <td>GPM_5min</td>\n",
       "      <td>Discharge</td>\n",
       "      <td>Not Applicable</td>\n",
       "      <td>gallons per minute</td>\n",
       "      <td>Surface water</td>\n",
       "      <td>Field Observation</td>\n",
       "      <td>True</td>\n",
       "      <td>5</td>\n",
       "      <td>minute</td>\n",
       "      <td>Continuous</td>\n",
       "      <td>Hydrology</td>\n",
       "      <td>-9999</td>\n",
       "    </tr>\n",
       "    <tr>\n",
       "      <th>2</th>\n",
       "      <td>GPM_15min</td>\n",
       "      <td>Discharge</td>\n",
       "      <td>Not Applicable</td>\n",
       "      <td>gallons per minute</td>\n",
       "      <td>Surface water</td>\n",
       "      <td>Field Observation</td>\n",
       "      <td>True</td>\n",
       "      <td>15</td>\n",
       "      <td>minute</td>\n",
       "      <td>Continuous</td>\n",
       "      <td>Hydrology</td>\n",
       "      <td>-9999</td>\n",
       "    </tr>\n",
       "  </tbody>\n",
       "</table>\n",
       "</div>"
      ],
      "text/plain": [
       "  VariableCode VariableName      Speciation   VariableUnitsName  \\\n",
       "1     GPM_5min    Discharge  Not Applicable  gallons per minute   \n",
       "2    GPM_15min    Discharge  Not Applicable  gallons per minute   \n",
       "\n",
       "    SampleMedium          ValueType  IsRegular  TimeSupport TimeUnitsName  \\\n",
       "1  Surface water  Field Observation       True            5        minute   \n",
       "2  Surface water  Field Observation       True           15        minute   \n",
       "\n",
       "     DataType GeneralCategory  NoDataValue  \n",
       "1  Continuous       Hydrology        -9999  \n",
       "2  Continuous       Hydrology        -9999  "
      ]
     },
     "execution_count": 5,
     "metadata": {},
     "output_type": "execute_result"
    }
   ],
   "source": [
    "# Modify the sample table.  In this case, I want to use the row at index 1 so I will drop the others\n",
    "df = df.drop(df.index[[0]])\n",
    "df"
   ]
  },
  {
   "cell_type": "code",
   "execution_count": 6,
   "metadata": {},
   "outputs": [],
   "source": [
    "# update the second entry for a 60 min variable\n",
    "df.at[2, 'VariableCode'] = \"GPM_60min\"\n",
    "df.at[2, 'TimeSupport'] = 60"
   ]
  },
  {
   "cell_type": "code",
   "execution_count": 7,
   "metadata": {},
   "outputs": [
    {
     "data": {
      "text/html": [
       "<div>\n",
       "<style scoped>\n",
       "    .dataframe tbody tr th:only-of-type {\n",
       "        vertical-align: middle;\n",
       "    }\n",
       "\n",
       "    .dataframe tbody tr th {\n",
       "        vertical-align: top;\n",
       "    }\n",
       "\n",
       "    .dataframe thead th {\n",
       "        text-align: right;\n",
       "    }\n",
       "</style>\n",
       "<table border=\"1\" class=\"dataframe\">\n",
       "  <thead>\n",
       "    <tr style=\"text-align: right;\">\n",
       "      <th></th>\n",
       "      <th>VariableCode</th>\n",
       "      <th>VariableName</th>\n",
       "      <th>Speciation</th>\n",
       "      <th>VariableUnitsName</th>\n",
       "      <th>SampleMedium</th>\n",
       "      <th>ValueType</th>\n",
       "      <th>IsRegular</th>\n",
       "      <th>TimeSupport</th>\n",
       "      <th>TimeUnitsName</th>\n",
       "      <th>DataType</th>\n",
       "      <th>GeneralCategory</th>\n",
       "      <th>NoDataValue</th>\n",
       "    </tr>\n",
       "  </thead>\n",
       "  <tbody>\n",
       "    <tr>\n",
       "      <th>1</th>\n",
       "      <td>GPM_5min</td>\n",
       "      <td>Discharge</td>\n",
       "      <td>Not Applicable</td>\n",
       "      <td>gallons per minute</td>\n",
       "      <td>Surface water</td>\n",
       "      <td>Field Observation</td>\n",
       "      <td>True</td>\n",
       "      <td>5</td>\n",
       "      <td>minute</td>\n",
       "      <td>Continuous</td>\n",
       "      <td>Hydrology</td>\n",
       "      <td>-9999</td>\n",
       "    </tr>\n",
       "    <tr>\n",
       "      <th>2</th>\n",
       "      <td>GPM_60min</td>\n",
       "      <td>Discharge</td>\n",
       "      <td>Not Applicable</td>\n",
       "      <td>gallons per minute</td>\n",
       "      <td>Surface water</td>\n",
       "      <td>Field Observation</td>\n",
       "      <td>True</td>\n",
       "      <td>60</td>\n",
       "      <td>minute</td>\n",
       "      <td>Continuous</td>\n",
       "      <td>Hydrology</td>\n",
       "      <td>-9999</td>\n",
       "    </tr>\n",
       "  </tbody>\n",
       "</table>\n",
       "</div>"
      ],
      "text/plain": [
       "  VariableCode VariableName      Speciation   VariableUnitsName  \\\n",
       "1     GPM_5min    Discharge  Not Applicable  gallons per minute   \n",
       "2    GPM_60min    Discharge  Not Applicable  gallons per minute   \n",
       "\n",
       "    SampleMedium          ValueType  IsRegular  TimeSupport TimeUnitsName  \\\n",
       "1  Surface water  Field Observation       True            5        minute   \n",
       "2  Surface water  Field Observation       True           60        minute   \n",
       "\n",
       "     DataType GeneralCategory  NoDataValue  \n",
       "1  Continuous       Hydrology        -9999  \n",
       "2  Continuous       Hydrology        -9999  "
      ]
     },
     "execution_count": 7,
     "metadata": {},
     "output_type": "execute_result"
    }
   ],
   "source": [
    "df"
   ]
  },
  {
   "cell_type": "code",
   "execution_count": 8,
   "metadata": {},
   "outputs": [],
   "source": [
    "# Save as a new text file\n",
    "df.to_csv(outname, encoding='utf-8', index=False)"
   ]
  },
  {
   "cell_type": "code",
   "execution_count": null,
   "metadata": {},
   "outputs": [],
   "source": []
  }
 ],
 "metadata": {
  "kernelspec": {
   "display_name": "Python (diversion)",
   "language": "python",
   "name": "diversion"
  },
  "language_info": {
   "codemirror_mode": {
    "name": "ipython",
    "version": 3
   },
   "file_extension": ".py",
   "mimetype": "text/x-python",
   "name": "python",
   "nbconvert_exporter": "python",
   "pygments_lexer": "ipython3",
   "version": "3.5.5"
  }
 },
 "nbformat": 4,
 "nbformat_minor": 2
}
