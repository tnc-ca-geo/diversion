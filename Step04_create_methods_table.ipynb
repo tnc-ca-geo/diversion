{
 "cells": [
  {
   "cell_type": "code",
   "execution_count": 1,
   "metadata": {},
   "outputs": [],
   "source": [
    "# Import data from sample files, modify, and export to new table"
   ]
  },
  {
   "cell_type": "code",
   "execution_count": 1,
   "metadata": {},
   "outputs": [],
   "source": [
    "import pandas as pd\n",
    "import os.path"
   ]
  },
  {
   "cell_type": "code",
   "execution_count": 2,
   "metadata": {},
   "outputs": [],
   "source": [
    "year = '2019'\n",
    "insample = os.path.join( os.getcwd(), 'samples\\\\methods.csv' )\n",
    "outname = os.path.join( os.getcwd(), '..', year, 'methods.csv' )"
   ]
  },
  {
   "cell_type": "code",
   "execution_count": 3,
   "metadata": {},
   "outputs": [],
   "source": [
    "df = pd.read_csv(insample)"
   ]
  },
  {
   "cell_type": "code",
   "execution_count": 4,
   "metadata": {},
   "outputs": [
    {
     "data": {
      "text/html": [
       "<div>\n",
       "<style scoped>\n",
       "    .dataframe tbody tr th:only-of-type {\n",
       "        vertical-align: middle;\n",
       "    }\n",
       "\n",
       "    .dataframe tbody tr th {\n",
       "        vertical-align: top;\n",
       "    }\n",
       "\n",
       "    .dataframe thead th {\n",
       "        text-align: right;\n",
       "    }\n",
       "</style>\n",
       "<table border=\"1\" class=\"dataframe\">\n",
       "  <thead>\n",
       "    <tr style=\"text-align: right;\">\n",
       "      <th></th>\n",
       "      <th>MethodCode</th>\n",
       "      <th>MethodDescription</th>\n",
       "      <th>MethodLink</th>\n",
       "    </tr>\n",
       "  </thead>\n",
       "  <tbody>\n",
       "    <tr>\n",
       "      <th>0</th>\n",
       "      <td>AG3000_DL</td>\n",
       "      <td>Measured with a 12 inch Seametrics AG3000 in-l...</td>\n",
       "      <td>http://www.seametrics.com/taxonomy/term/147</td>\n",
       "    </tr>\n",
       "    <tr>\n",
       "      <th>1</th>\n",
       "      <td>AG3000_EM</td>\n",
       "      <td>Measured with a 12 inch Seametrics AG3000 in-l...</td>\n",
       "      <td>http://www.seametrics.com/taxonomy/term/147</td>\n",
       "    </tr>\n",
       "    <tr>\n",
       "      <th>2</th>\n",
       "      <td>EX250_WE</td>\n",
       "      <td>Measured with a Seametrics Ex250 insertion ele...</td>\n",
       "      <td>http://www.seametrics.com/product/detail?sku=E...</td>\n",
       "    </tr>\n",
       "    <tr>\n",
       "      <th>3</th>\n",
       "      <td>IS203_EM</td>\n",
       "      <td>Measured with a Sierra Instruments InnovaSonic...</td>\n",
       "      <td>http://www.sierrainstruments.com/products/203p...</td>\n",
       "    </tr>\n",
       "    <tr>\n",
       "      <th>4</th>\n",
       "      <td>NaN</td>\n",
       "      <td>NaN</td>\n",
       "      <td>NaN</td>\n",
       "    </tr>\n",
       "    <tr>\n",
       "      <th>5</th>\n",
       "      <td>NaN</td>\n",
       "      <td>NaN</td>\n",
       "      <td>NaN</td>\n",
       "    </tr>\n",
       "  </tbody>\n",
       "</table>\n",
       "</div>"
      ],
      "text/plain": [
       "  MethodCode                                  MethodDescription  \\\n",
       "0  AG3000_DL  Measured with a 12 inch Seametrics AG3000 in-l...   \n",
       "1  AG3000_EM  Measured with a 12 inch Seametrics AG3000 in-l...   \n",
       "2   EX250_WE  Measured with a Seametrics Ex250 insertion ele...   \n",
       "3   IS203_EM  Measured with a Sierra Instruments InnovaSonic...   \n",
       "4        NaN                                                NaN   \n",
       "5        NaN                                                NaN   \n",
       "\n",
       "                                          MethodLink  \n",
       "0        http://www.seametrics.com/taxonomy/term/147  \n",
       "1        http://www.seametrics.com/taxonomy/term/147  \n",
       "2  http://www.seametrics.com/product/detail?sku=E...  \n",
       "3  http://www.sierrainstruments.com/products/203p...  \n",
       "4                                                NaN  \n",
       "5                                                NaN  "
      ]
     },
     "execution_count": 4,
     "metadata": {},
     "output_type": "execute_result"
    }
   ],
   "source": [
    "df"
   ]
  },
  {
   "cell_type": "code",
   "execution_count": 5,
   "metadata": {},
   "outputs": [
    {
     "data": {
      "text/html": [
       "<div>\n",
       "<style scoped>\n",
       "    .dataframe tbody tr th:only-of-type {\n",
       "        vertical-align: middle;\n",
       "    }\n",
       "\n",
       "    .dataframe tbody tr th {\n",
       "        vertical-align: top;\n",
       "    }\n",
       "\n",
       "    .dataframe thead th {\n",
       "        text-align: right;\n",
       "    }\n",
       "</style>\n",
       "<table border=\"1\" class=\"dataframe\">\n",
       "  <thead>\n",
       "    <tr style=\"text-align: right;\">\n",
       "      <th></th>\n",
       "      <th>MethodCode</th>\n",
       "      <th>MethodDescription</th>\n",
       "      <th>MethodLink</th>\n",
       "    </tr>\n",
       "  </thead>\n",
       "  <tbody>\n",
       "    <tr>\n",
       "      <th>0</th>\n",
       "      <td>AG3000_DL</td>\n",
       "      <td>Measured with a 12 inch Seametrics AG3000 in-l...</td>\n",
       "      <td>http://www.seametrics.com/taxonomy/term/147</td>\n",
       "    </tr>\n",
       "    <tr>\n",
       "      <th>1</th>\n",
       "      <td>AG3000_EM</td>\n",
       "      <td>Measured with a 12 inch Seametrics AG3000 in-l...</td>\n",
       "      <td>http://www.seametrics.com/taxonomy/term/147</td>\n",
       "    </tr>\n",
       "    <tr>\n",
       "      <th>3</th>\n",
       "      <td>IS203_EM</td>\n",
       "      <td>Measured with a Sierra Instruments InnovaSonic...</td>\n",
       "      <td>http://www.sierrainstruments.com/products/203p...</td>\n",
       "    </tr>\n",
       "  </tbody>\n",
       "</table>\n",
       "</div>"
      ],
      "text/plain": [
       "  MethodCode                                  MethodDescription  \\\n",
       "0  AG3000_DL  Measured with a 12 inch Seametrics AG3000 in-l...   \n",
       "1  AG3000_EM  Measured with a 12 inch Seametrics AG3000 in-l...   \n",
       "3   IS203_EM  Measured with a Sierra Instruments InnovaSonic...   \n",
       "\n",
       "                                          MethodLink  \n",
       "0        http://www.seametrics.com/taxonomy/term/147  \n",
       "1        http://www.seametrics.com/taxonomy/term/147  \n",
       "3  http://www.sierrainstruments.com/products/203p...  "
      ]
     },
     "execution_count": 5,
     "metadata": {},
     "output_type": "execute_result"
    }
   ],
   "source": [
    "# Modify the sample table.  In this case, I want to use the 0,1,and 3 rows\n",
    "df = df.drop(df.index[[2,4,5]])\n",
    "df"
   ]
  },
  {
   "cell_type": "code",
   "execution_count": 6,
   "metadata": {},
   "outputs": [],
   "source": [
    "# Save as a new text file\n",
    "df.to_csv(outname, encoding='utf-8', index=False)"
   ]
  },
  {
   "cell_type": "code",
   "execution_count": null,
   "metadata": {},
   "outputs": [],
   "source": []
  }
 ],
 "metadata": {
  "kernelspec": {
   "display_name": "Python (diversion)",
   "language": "python",
   "name": "diversion"
  },
  "language_info": {
   "codemirror_mode": {
    "name": "ipython",
    "version": 3
   },
   "file_extension": ".py",
   "mimetype": "text/x-python",
   "name": "python",
   "nbconvert_exporter": "python",
   "pygments_lexer": "ipython3",
   "version": "3.5.5"
  }
 },
 "nbformat": 4,
 "nbformat_minor": 2
}
