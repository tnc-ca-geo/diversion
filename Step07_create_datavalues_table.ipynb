{
 "cells": [
  {
   "cell_type": "code",
   "execution_count": 1,
   "metadata": {},
   "outputs": [],
   "source": [
    "# Import measurement data from weatherlink files, modify, and export to new tables for each station\n",
    "\n",
    "# This page is very useful for time series manipulations:\n",
    "# https://chrisalbon.com/python/data_wrangling/pandas_time_series_basics/"
   ]
  },
  {
   "cell_type": "code",
   "execution_count": 1,
   "metadata": {},
   "outputs": [],
   "source": [
    "import pandas as pd\n",
    "import numpy as np\n",
    "import os.path\n",
    "from datetime import datetime"
   ]
  },
  {
   "cell_type": "code",
   "execution_count": 2,
   "metadata": {},
   "outputs": [],
   "source": [
    "year = '2019'\n",
    "indata = os.path.join( os.getcwd(), '..', year, 'input_data\\\\Staten_Island_-_East_Pumps_1-1-19_12-00_AM_1_Year_1580151855_v2.csv' )\n",
    "outname = os.path.join( os.getcwd(), '..', year, 'DataValues.csv' )"
   ]
  },
  {
   "cell_type": "code",
   "execution_count": 3,
   "metadata": {},
   "outputs": [
    {
     "data": {
      "text/html": [
       "<div>\n",
       "<style scoped>\n",
       "    .dataframe tbody tr th:only-of-type {\n",
       "        vertical-align: middle;\n",
       "    }\n",
       "\n",
       "    .dataframe tbody tr th {\n",
       "        vertical-align: top;\n",
       "    }\n",
       "\n",
       "    .dataframe thead th {\n",
       "        text-align: right;\n",
       "    }\n",
       "</style>\n",
       "<table border=\"1\" class=\"dataframe\">\n",
       "  <thead>\n",
       "    <tr style=\"text-align: right;\">\n",
       "      <th></th>\n",
       "      <th>0</th>\n",
       "      <th>1</th>\n",
       "      <th>2</th>\n",
       "      <th>3</th>\n",
       "      <th>4</th>\n",
       "      <th>5</th>\n",
       "      <th>6</th>\n",
       "      <th>7</th>\n",
       "      <th>8</th>\n",
       "      <th>9</th>\n",
       "      <th>10</th>\n",
       "    </tr>\n",
       "  </thead>\n",
       "  <tbody>\n",
       "    <tr>\n",
       "      <th>0</th>\n",
       "      <td>NaN</td>\n",
       "      <td>Siphon 10</td>\n",
       "      <td>Siphon 36</td>\n",
       "      <td>Siphon 37</td>\n",
       "      <td>Siphon 38</td>\n",
       "      <td>Siphon 4</td>\n",
       "      <td>Siphon 5</td>\n",
       "      <td>Siphon 6</td>\n",
       "      <td>Siphon 7 SI</td>\n",
       "      <td>Siphon 7 SI</td>\n",
       "      <td>Siphon 9</td>\n",
       "    </tr>\n",
       "    <tr>\n",
       "      <th>1</th>\n",
       "      <td>NaN</td>\n",
       "      <td>InnovaSonic 203 (100 Gallons per Pulse)</td>\n",
       "      <td>InnovaSonic 203 (100 Gallons per Pulse)</td>\n",
       "      <td>InnovaSonic 203 (100 Gallons per Pulse)</td>\n",
       "      <td>InnovaSonic 203 (100 Gallons per Pulse)</td>\n",
       "      <td>InnovaSonic 203 (100 Gallons per Pulse)</td>\n",
       "      <td>InnovaSonic 203 (100 Gallons per Pulse)</td>\n",
       "      <td>InnovaSonic 203 (100 Gallons per Pulse)</td>\n",
       "      <td>InnovaSonic 203 (100 Gallons per Pulse)</td>\n",
       "      <td>AG2000 -1200 -11/* -PxH GPM G (100 Gal per Pulse)</td>\n",
       "      <td>InnovaSonic 203 (100 Gallons per Pulse)</td>\n",
       "    </tr>\n",
       "    <tr>\n",
       "      <th>2</th>\n",
       "      <td>NaN</td>\n",
       "      <td>Port 1</td>\n",
       "      <td>Port 1</td>\n",
       "      <td>Port 1</td>\n",
       "      <td>Port 1</td>\n",
       "      <td>Port 1</td>\n",
       "      <td>Port 1</td>\n",
       "      <td>Port 1</td>\n",
       "      <td>Port 1</td>\n",
       "      <td>Port 2</td>\n",
       "      <td>Port 1</td>\n",
       "    </tr>\n",
       "  </tbody>\n",
       "</table>\n",
       "</div>"
      ],
      "text/plain": [
       "   0                                        1   \\\n",
       "0 NaN                                Siphon 10   \n",
       "1 NaN  InnovaSonic 203 (100 Gallons per Pulse)   \n",
       "2 NaN                                   Port 1   \n",
       "\n",
       "                                        2   \\\n",
       "0                                Siphon 36   \n",
       "1  InnovaSonic 203 (100 Gallons per Pulse)   \n",
       "2                                   Port 1   \n",
       "\n",
       "                                        3   \\\n",
       "0                                Siphon 37   \n",
       "1  InnovaSonic 203 (100 Gallons per Pulse)   \n",
       "2                                   Port 1   \n",
       "\n",
       "                                        4   \\\n",
       "0                                Siphon 38   \n",
       "1  InnovaSonic 203 (100 Gallons per Pulse)   \n",
       "2                                   Port 1   \n",
       "\n",
       "                                        5   \\\n",
       "0                                 Siphon 4   \n",
       "1  InnovaSonic 203 (100 Gallons per Pulse)   \n",
       "2                                   Port 1   \n",
       "\n",
       "                                        6   \\\n",
       "0                                 Siphon 5   \n",
       "1  InnovaSonic 203 (100 Gallons per Pulse)   \n",
       "2                                   Port 1   \n",
       "\n",
       "                                        7   \\\n",
       "0                                 Siphon 6   \n",
       "1  InnovaSonic 203 (100 Gallons per Pulse)   \n",
       "2                                   Port 1   \n",
       "\n",
       "                                        8   \\\n",
       "0                             Siphon 7 SI    \n",
       "1  InnovaSonic 203 (100 Gallons per Pulse)   \n",
       "2                                   Port 1   \n",
       "\n",
       "                                                  9   \\\n",
       "0                                       Siphon 7 SI    \n",
       "1  AG2000 -1200 -11/* -PxH GPM G (100 Gal per Pulse)   \n",
       "2                                             Port 2   \n",
       "\n",
       "                                        10  \n",
       "0                                 Siphon 9  \n",
       "1  InnovaSonic 203 (100 Gallons per Pulse)  \n",
       "2                                   Port 1  "
      ]
     },
     "execution_count": 3,
     "metadata": {},
     "output_type": "execute_result"
    }
   ],
   "source": [
    "#Get headers (in two rows, starting with the third row)\n",
    "headers = pd.read_csv(indata, skiprows=2,header=None,nrows=3)\n",
    "headers"
   ]
  },
  {
   "cell_type": "code",
   "execution_count": 7,
   "metadata": {},
   "outputs": [
    {
     "data": {
      "text/plain": [
       "['Siphon10',\n",
       " 'Siphon36',\n",
       " 'Siphon37',\n",
       " 'Siphon38',\n",
       " 'Siphon4',\n",
       " 'Siphon5',\n",
       " 'Siphon6',\n",
       " 'Siphon7SI',\n",
       " 'Siphon7SI',\n",
       " 'Siphon9']"
      ]
     },
     "execution_count": 7,
     "metadata": {},
     "output_type": "execute_result"
    }
   ],
   "source": [
    "# Remove spaces from headers\n",
    "headers_row0 = headers.iloc[0].tolist()\n",
    "k=[]\n",
    "for i in headers_row0[1:]:\n",
    "    j = i.replace(' ','')\n",
    "    k.append(j)\n",
    "columns = k\n",
    "columns"
   ]
  },
  {
   "cell_type": "code",
   "execution_count": 8,
   "metadata": {},
   "outputs": [
    {
     "data": {
      "text/plain": [
       "['Siphon10',\n",
       " 'Siphon36',\n",
       " 'Siphon37',\n",
       " 'Siphon38',\n",
       " 'Siphon4',\n",
       " 'Siphon5',\n",
       " 'Siphon6',\n",
       " 'Siphon7_IS',\n",
       " 'Siphon7_AG',\n",
       " 'Siphon9']"
      ]
     },
     "execution_count": 8,
     "metadata": {},
     "output_type": "execute_result"
    }
   ],
   "source": [
    "# Provide more detail for Siphon 7 since it has two meters\n",
    "columns.insert(7, 'Siphon7_IS')\n",
    "columns.insert(8, 'Siphon7_AG')\n",
    "columns.pop(9)\n",
    "columns.pop(9)\n",
    "columns"
   ]
  },
  {
   "cell_type": "code",
   "execution_count": 9,
   "metadata": {},
   "outputs": [
    {
     "data": {
      "text/html": [
       "<div>\n",
       "<style scoped>\n",
       "    .dataframe tbody tr th:only-of-type {\n",
       "        vertical-align: middle;\n",
       "    }\n",
       "\n",
       "    .dataframe tbody tr th {\n",
       "        vertical-align: top;\n",
       "    }\n",
       "\n",
       "    .dataframe thead th {\n",
       "        text-align: right;\n",
       "    }\n",
       "</style>\n",
       "<table border=\"1\" class=\"dataframe\">\n",
       "  <thead>\n",
       "    <tr style=\"text-align: right;\">\n",
       "      <th></th>\n",
       "      <th>Siphon10</th>\n",
       "      <th>Siphon36</th>\n",
       "      <th>Siphon37</th>\n",
       "      <th>Siphon38</th>\n",
       "      <th>Siphon4</th>\n",
       "      <th>Siphon5</th>\n",
       "      <th>Siphon6</th>\n",
       "      <th>Siphon7_IS</th>\n",
       "      <th>Siphon7_AG</th>\n",
       "      <th>Siphon9</th>\n",
       "    </tr>\n",
       "    <tr>\n",
       "      <th>LocalDateTime</th>\n",
       "      <th></th>\n",
       "      <th></th>\n",
       "      <th></th>\n",
       "      <th></th>\n",
       "      <th></th>\n",
       "      <th></th>\n",
       "      <th></th>\n",
       "      <th></th>\n",
       "      <th></th>\n",
       "      <th></th>\n",
       "    </tr>\n",
       "  </thead>\n",
       "  <tbody>\n",
       "    <tr>\n",
       "      <th>2019-01-01 00:00:00</th>\n",
       "      <td>0.0</td>\n",
       "      <td>0.0</td>\n",
       "      <td>0.0</td>\n",
       "      <td>0.0</td>\n",
       "      <td>NaN</td>\n",
       "      <td>NaN</td>\n",
       "      <td>NaN</td>\n",
       "      <td>0.0</td>\n",
       "      <td>0.0</td>\n",
       "      <td>NaN</td>\n",
       "    </tr>\n",
       "    <tr>\n",
       "      <th>2019-01-01 00:05:00</th>\n",
       "      <td>0.0</td>\n",
       "      <td>0.0</td>\n",
       "      <td>0.0</td>\n",
       "      <td>0.0</td>\n",
       "      <td>NaN</td>\n",
       "      <td>NaN</td>\n",
       "      <td>NaN</td>\n",
       "      <td>0.0</td>\n",
       "      <td>0.0</td>\n",
       "      <td>NaN</td>\n",
       "    </tr>\n",
       "    <tr>\n",
       "      <th>2019-01-01 00:10:00</th>\n",
       "      <td>0.0</td>\n",
       "      <td>0.0</td>\n",
       "      <td>0.0</td>\n",
       "      <td>0.0</td>\n",
       "      <td>NaN</td>\n",
       "      <td>NaN</td>\n",
       "      <td>NaN</td>\n",
       "      <td>0.0</td>\n",
       "      <td>0.0</td>\n",
       "      <td>NaN</td>\n",
       "    </tr>\n",
       "    <tr>\n",
       "      <th>2019-01-01 00:15:00</th>\n",
       "      <td>0.0</td>\n",
       "      <td>0.0</td>\n",
       "      <td>0.0</td>\n",
       "      <td>0.0</td>\n",
       "      <td>NaN</td>\n",
       "      <td>NaN</td>\n",
       "      <td>NaN</td>\n",
       "      <td>0.0</td>\n",
       "      <td>0.0</td>\n",
       "      <td>NaN</td>\n",
       "    </tr>\n",
       "    <tr>\n",
       "      <th>2019-01-01 00:20:00</th>\n",
       "      <td>0.0</td>\n",
       "      <td>0.0</td>\n",
       "      <td>0.0</td>\n",
       "      <td>0.0</td>\n",
       "      <td>NaN</td>\n",
       "      <td>NaN</td>\n",
       "      <td>NaN</td>\n",
       "      <td>0.0</td>\n",
       "      <td>0.0</td>\n",
       "      <td>NaN</td>\n",
       "    </tr>\n",
       "  </tbody>\n",
       "</table>\n",
       "</div>"
      ],
      "text/plain": [
       "                     Siphon10  Siphon36  Siphon37  Siphon38  Siphon4  Siphon5  \\\n",
       "LocalDateTime                                                                   \n",
       "2019-01-01 00:00:00       0.0       0.0       0.0       0.0      NaN      NaN   \n",
       "2019-01-01 00:05:00       0.0       0.0       0.0       0.0      NaN      NaN   \n",
       "2019-01-01 00:10:00       0.0       0.0       0.0       0.0      NaN      NaN   \n",
       "2019-01-01 00:15:00       0.0       0.0       0.0       0.0      NaN      NaN   \n",
       "2019-01-01 00:20:00       0.0       0.0       0.0       0.0      NaN      NaN   \n",
       "\n",
       "                     Siphon6  Siphon7_IS  Siphon7_AG  Siphon9  \n",
       "LocalDateTime                                                  \n",
       "2019-01-01 00:00:00      NaN         0.0         0.0      NaN  \n",
       "2019-01-01 00:05:00      NaN         0.0         0.0      NaN  \n",
       "2019-01-01 00:10:00      NaN         0.0         0.0      NaN  \n",
       "2019-01-01 00:15:00      NaN         0.0         0.0      NaN  \n",
       "2019-01-01 00:20:00      NaN         0.0         0.0      NaN  "
      ]
     },
     "execution_count": 9,
     "metadata": {},
     "output_type": "execute_result"
    }
   ],
   "source": [
    "#Import the data and create a date index\n",
    "df = pd.read_csv(indata,skiprows=6,header=None,index_col=0, na_values=\"--\")\n",
    "df.index = pd.to_datetime(df.index) # Takes about 15 seconds\n",
    "df.index.name = \"LocalDateTime\"\n",
    "df.columns = columns\n",
    "df.head()"
   ]
  },
  {
   "cell_type": "code",
   "execution_count": 10,
   "metadata": {},
   "outputs": [],
   "source": [
    "# Convert all data to gallons per minute\n",
    "df = df/5"
   ]
  },
  {
   "cell_type": "code",
   "execution_count": 12,
   "metadata": {},
   "outputs": [
    {
     "data": {
      "text/html": [
       "<div>\n",
       "<style scoped>\n",
       "    .dataframe tbody tr th:only-of-type {\n",
       "        vertical-align: middle;\n",
       "    }\n",
       "\n",
       "    .dataframe tbody tr th {\n",
       "        vertical-align: top;\n",
       "    }\n",
       "\n",
       "    .dataframe thead th {\n",
       "        text-align: right;\n",
       "    }\n",
       "</style>\n",
       "<table border=\"1\" class=\"dataframe\">\n",
       "  <thead>\n",
       "    <tr style=\"text-align: right;\">\n",
       "      <th></th>\n",
       "      <th>Siphon10</th>\n",
       "      <th>Siphon36</th>\n",
       "      <th>Siphon37</th>\n",
       "      <th>Siphon38</th>\n",
       "      <th>Siphon4</th>\n",
       "      <th>Siphon5</th>\n",
       "      <th>Siphon6</th>\n",
       "      <th>Siphon7_IS</th>\n",
       "      <th>Siphon7_AG</th>\n",
       "      <th>Siphon9</th>\n",
       "    </tr>\n",
       "    <tr>\n",
       "      <th>LocalDateTime</th>\n",
       "      <th></th>\n",
       "      <th></th>\n",
       "      <th></th>\n",
       "      <th></th>\n",
       "      <th></th>\n",
       "      <th></th>\n",
       "      <th></th>\n",
       "      <th></th>\n",
       "      <th></th>\n",
       "      <th></th>\n",
       "    </tr>\n",
       "  </thead>\n",
       "  <tbody>\n",
       "  </tbody>\n",
       "</table>\n",
       "</div>"
      ],
      "text/plain": [
       "Empty DataFrame\n",
       "Columns: [Siphon10, Siphon36, Siphon37, Siphon38, Siphon4, Siphon5, Siphon6, Siphon7_IS, Siphon7_AG, Siphon9]\n",
       "Index: []"
      ]
     },
     "execution_count": 12,
     "metadata": {},
     "output_type": "execute_result"
    }
   ],
   "source": [
    "# OPTIONAL\n",
    "#Check for daylight savings time issues\n",
    "#Start 2am, March 11, 2018.  2am is converted to 3am\n",
    "#End 2am, November 4, 2018. 2am data is missing\n",
    "#df['3-11-2018 01:00': '3-11-2018 04:00']\n",
    "df['11-4-2018 01:00': '11-4-2018 04:00']"
   ]
  },
  {
   "cell_type": "code",
   "execution_count": 13,
   "metadata": {},
   "outputs": [],
   "source": [
    "#Create UTC column\n",
    "df['DateTimeUTC'] = df.index.tz_localize('US/Pacific', ambiguous='NaT').tz_convert('UTC')"
   ]
  },
  {
   "cell_type": "code",
   "execution_count": 14,
   "metadata": {},
   "outputs": [],
   "source": [
    "#Create UTCOffset column\n",
    "df['UTCOffset']  = (df['DateTimeUTC'] - df.index.tz_localize('UTC')).dt.seconds/(60*60)*-1"
   ]
  },
  {
   "cell_type": "code",
   "execution_count": 15,
   "metadata": {},
   "outputs": [],
   "source": [
    "# Create the additional columns\n",
    "df['QualityControlLevelCode'] = 0 # 0 is for raw data\n",
    "df['SourceCode'] = \"TNC\"\n",
    "df['CensorCode'] = \"nc\"\n",
    "df['VariableCode'] = \"GPM_5min\""
   ]
  },
  {
   "cell_type": "code",
   "execution_count": 16,
   "metadata": {},
   "outputs": [],
   "source": [
    "# Reset the index to make a local date column\n",
    "df = df.reset_index()"
   ]
  },
  {
   "cell_type": "code",
   "execution_count": 17,
   "metadata": {},
   "outputs": [],
   "source": [
    "#Convert wide to long format\n",
    "id_vars = ['LocalDateTime',\n",
    "           'UTCOffset',\n",
    "           'DateTimeUTC',\n",
    "           'VariableCode',\n",
    "           'SourceCode',\n",
    "           'QualityControlLevelCode',\n",
    "           'CensorCode'\n",
    "          ]\n",
    "value_vars = columns\n",
    "\n",
    "df = pd.melt(df, id_vars=id_vars,value_vars=value_vars)"
   ]
  },
  {
   "cell_type": "code",
   "execution_count": 18,
   "metadata": {},
   "outputs": [],
   "source": [
    "#Update the MethodCode field\n",
    "#All sites use the same method except Siphon7_AG_2\n",
    "df['MethodCode'] = \"IS203_EM\"\n",
    "df.loc[df['variable'] == \"Siphon7_AG\", 'MethodCode'] = \"AG3000_EM\""
   ]
  },
  {
   "cell_type": "code",
   "execution_count": 19,
   "metadata": {},
   "outputs": [],
   "source": [
    "#Update the Site field\n",
    "df.loc[df['variable'].isin([\"Siphon7_AG\", \"Siphon7_IS\"]), 'variable'] = \"Siphon7\"\n",
    "df.rename(columns={'variable': 'SiteCode'}, inplace=True)"
   ]
  },
  {
   "cell_type": "code",
   "execution_count": 20,
   "metadata": {},
   "outputs": [],
   "source": [
    "#Update DataValue field\n",
    "df.rename(columns={'value': 'DataValue'}, inplace=True)"
   ]
  },
  {
   "cell_type": "code",
   "execution_count": 21,
   "metadata": {},
   "outputs": [],
   "source": [
    "#Update Qualifier field\n",
    "#More work needed to screen for outliers and missing values\n",
    "df['QualifierCode'] = 0"
   ]
  },
  {
   "cell_type": "code",
   "execution_count": 22,
   "metadata": {},
   "outputs": [],
   "source": [
    "# Remove the localization from the UTC column\n",
    "df['DateTimeUTC'] = df['DateTimeUTC'].astype(str).str[:-6]"
   ]
  },
  {
   "cell_type": "code",
   "execution_count": 23,
   "metadata": {},
   "outputs": [],
   "source": [
    "# Save as a new text file\n",
    "df.to_csv(outname, encoding='utf-8',index=False)"
   ]
  },
  {
   "cell_type": "code",
   "execution_count": null,
   "metadata": {},
   "outputs": [],
   "source": []
  }
 ],
 "metadata": {
  "kernelspec": {
   "display_name": "Python (diversion)",
   "language": "python",
   "name": "diversion"
  },
  "language_info": {
   "codemirror_mode": {
    "name": "ipython",
    "version": 3
   },
   "file_extension": ".py",
   "mimetype": "text/x-python",
   "name": "python",
   "nbconvert_exporter": "python",
   "pygments_lexer": "ipython3",
   "version": "3.5.5"
  }
 },
 "nbformat": 4,
 "nbformat_minor": 2
}
