{
 "cells": [
  {
   "cell_type": "code",
   "execution_count": 1,
   "metadata": {},
   "outputs": [],
   "source": [
    "# Import data from sample files, modify, and export to new table"
   ]
  },
  {
   "cell_type": "code",
   "execution_count": 2,
   "metadata": {},
   "outputs": [],
   "source": [
    "import pandas as pd\n",
    "import os.path"
   ]
  },
  {
   "cell_type": "code",
   "execution_count": 3,
   "metadata": {},
   "outputs": [],
   "source": [
    "year = '2019'\n",
    "insample = os.path.join( os.getcwd(), 'samples\\\\sources.csv')\n",
    "outname = os.path.join( os.getcwd(), '..', year, 'sources.csv')"
   ]
  },
  {
   "cell_type": "code",
   "execution_count": 4,
   "metadata": {},
   "outputs": [
    {
     "data": {
      "text/html": [
       "<div>\n",
       "<style scoped>\n",
       "    .dataframe tbody tr th:only-of-type {\n",
       "        vertical-align: middle;\n",
       "    }\n",
       "\n",
       "    .dataframe tbody tr th {\n",
       "        vertical-align: top;\n",
       "    }\n",
       "\n",
       "    .dataframe thead th {\n",
       "        text-align: right;\n",
       "    }\n",
       "</style>\n",
       "<table border=\"1\" class=\"dataframe\">\n",
       "  <thead>\n",
       "    <tr style=\"text-align: right;\">\n",
       "      <th></th>\n",
       "      <th>SourceCode</th>\n",
       "      <th>Organization</th>\n",
       "      <th>SourceDescription</th>\n",
       "      <th>SourceLink</th>\n",
       "      <th>ContactName</th>\n",
       "      <th>Phone</th>\n",
       "      <th>Email</th>\n",
       "      <th>Address</th>\n",
       "      <th>City</th>\n",
       "      <th>State</th>\n",
       "      <th>ZipCode</th>\n",
       "      <th>Citation</th>\n",
       "      <th>TopicCategory</th>\n",
       "      <th>Title</th>\n",
       "      <th>Abstract</th>\n",
       "      <th>ProfileVersion</th>\n",
       "      <th>MetadataLink</th>\n",
       "    </tr>\n",
       "  </thead>\n",
       "  <tbody>\n",
       "    <tr>\n",
       "      <th>0</th>\n",
       "      <td>TNC</td>\n",
       "      <td>The Nature Conservancy, California</td>\n",
       "      <td>The Nature Conservancy is collaborating with C...</td>\n",
       "      <td>https://www.nature.org</td>\n",
       "      <td>Kirk Klausmeyer</td>\n",
       "      <td>510-684-4538</td>\n",
       "      <td>kklausmeyer@tnc.org</td>\n",
       "      <td>201 Mission Street, 4th Floor</td>\n",
       "      <td>San Francisco</td>\n",
       "      <td>CA</td>\n",
       "      <td>94105</td>\n",
       "      <td>The Nature Conservancy, California. 2017. Wate...</td>\n",
       "      <td>inlandWaters</td>\n",
       "      <td>Water Diversion Measurements on Staten Island,...</td>\n",
       "      <td>The mission of The Nature Conservancy is to pr...</td>\n",
       "      <td>Unknown</td>\n",
       "      <td>NaN</td>\n",
       "    </tr>\n",
       "  </tbody>\n",
       "</table>\n",
       "</div>"
      ],
      "text/plain": [
       "  SourceCode                        Organization  \\\n",
       "0        TNC  The Nature Conservancy, California   \n",
       "\n",
       "                                   SourceDescription              SourceLink  \\\n",
       "0  The Nature Conservancy is collaborating with C...  https://www.nature.org   \n",
       "\n",
       "       ContactName         Phone                Email  \\\n",
       "0  Kirk Klausmeyer  510-684-4538  kklausmeyer@tnc.org   \n",
       "\n",
       "                         Address           City State  ZipCode  \\\n",
       "0  201 Mission Street, 4th Floor  San Francisco    CA    94105   \n",
       "\n",
       "                                            Citation TopicCategory  \\\n",
       "0  The Nature Conservancy, California. 2017. Wate...  inlandWaters   \n",
       "\n",
       "                                               Title  \\\n",
       "0  Water Diversion Measurements on Staten Island,...   \n",
       "\n",
       "                                            Abstract ProfileVersion  \\\n",
       "0  The mission of The Nature Conservancy is to pr...        Unknown   \n",
       "\n",
       "   MetadataLink  \n",
       "0           NaN  "
      ]
     },
     "execution_count": 4,
     "metadata": {},
     "output_type": "execute_result"
    }
   ],
   "source": [
    "df = pd.read_csv(insample)\n",
    "df"
   ]
  },
  {
   "cell_type": "code",
   "execution_count": 5,
   "metadata": {},
   "outputs": [
    {
     "data": {
      "text/html": [
       "<div>\n",
       "<style scoped>\n",
       "    .dataframe tbody tr th:only-of-type {\n",
       "        vertical-align: middle;\n",
       "    }\n",
       "\n",
       "    .dataframe tbody tr th {\n",
       "        vertical-align: top;\n",
       "    }\n",
       "\n",
       "    .dataframe thead th {\n",
       "        text-align: right;\n",
       "    }\n",
       "</style>\n",
       "<table border=\"1\" class=\"dataframe\">\n",
       "  <thead>\n",
       "    <tr style=\"text-align: right;\">\n",
       "      <th></th>\n",
       "      <th>SourceCode</th>\n",
       "      <th>Organization</th>\n",
       "      <th>SourceDescription</th>\n",
       "      <th>SourceLink</th>\n",
       "      <th>ContactName</th>\n",
       "      <th>Phone</th>\n",
       "      <th>Email</th>\n",
       "      <th>Address</th>\n",
       "      <th>City</th>\n",
       "      <th>State</th>\n",
       "      <th>ZipCode</th>\n",
       "      <th>Citation</th>\n",
       "      <th>TopicCategory</th>\n",
       "      <th>Title</th>\n",
       "      <th>Abstract</th>\n",
       "      <th>ProfileVersion</th>\n",
       "      <th>MetadataLink</th>\n",
       "    </tr>\n",
       "  </thead>\n",
       "  <tbody>\n",
       "    <tr>\n",
       "      <th>0</th>\n",
       "      <td>TNC2020</td>\n",
       "      <td>The Nature Conservancy, California</td>\n",
       "      <td>The Nature Conservancy is collaborating with C...</td>\n",
       "      <td>https://www.nature.org</td>\n",
       "      <td>Kirk Klausmeyer</td>\n",
       "      <td>510-684-4538</td>\n",
       "      <td>kklausmeyer@tnc.org</td>\n",
       "      <td>201 Mission Street, 4th Floor</td>\n",
       "      <td>San Francisco</td>\n",
       "      <td>CA</td>\n",
       "      <td>94105</td>\n",
       "      <td>The Nature Conservancy, California. 2020. Wate...</td>\n",
       "      <td>inlandWaters</td>\n",
       "      <td>Water Diversion Measurements on Staten Island,...</td>\n",
       "      <td>The mission of The Nature Conservancy is to pr...</td>\n",
       "      <td>Unknown</td>\n",
       "      <td>NaN</td>\n",
       "    </tr>\n",
       "  </tbody>\n",
       "</table>\n",
       "</div>"
      ],
      "text/plain": [
       "  SourceCode                        Organization  \\\n",
       "0    TNC2020  The Nature Conservancy, California   \n",
       "\n",
       "                                   SourceDescription              SourceLink  \\\n",
       "0  The Nature Conservancy is collaborating with C...  https://www.nature.org   \n",
       "\n",
       "       ContactName         Phone                Email  \\\n",
       "0  Kirk Klausmeyer  510-684-4538  kklausmeyer@tnc.org   \n",
       "\n",
       "                         Address           City State  ZipCode  \\\n",
       "0  201 Mission Street, 4th Floor  San Francisco    CA    94105   \n",
       "\n",
       "                                            Citation TopicCategory  \\\n",
       "0  The Nature Conservancy, California. 2020. Wate...  inlandWaters   \n",
       "\n",
       "                                               Title  \\\n",
       "0  Water Diversion Measurements on Staten Island,...   \n",
       "\n",
       "                                            Abstract ProfileVersion  \\\n",
       "0  The mission of The Nature Conservancy is to pr...        Unknown   \n",
       "\n",
       "   MetadataLink  \n",
       "0           NaN  "
      ]
     },
     "execution_count": 5,
     "metadata": {},
     "output_type": "execute_result"
    }
   ],
   "source": [
    "# Modify the sample table.  In this case, change the source code to \"TNC2019\" and the citation to include 2020\n",
    "df.at[0, 'SourceCode'] = \"TNC2020\"\n",
    "df.at[0, 'Citation'] = \"The Nature Conservancy, California. 2020. Water Diversion Measurements on Staten Island, California.\"\n",
    "df"
   ]
  },
  {
   "cell_type": "code",
   "execution_count": 6,
   "metadata": {},
   "outputs": [],
   "source": [
    "# Save as a new text file\n",
    "df.to_csv(outname, encoding='utf-8', index=False)"
   ]
  },
  {
   "cell_type": "code",
   "execution_count": null,
   "metadata": {},
   "outputs": [],
   "source": []
  }
 ],
 "metadata": {
  "kernelspec": {
   "display_name": "Python (diversion)",
   "language": "python",
   "name": "diversion"
  },
  "language_info": {
   "codemirror_mode": {
    "name": "ipython",
    "version": 3
   },
   "file_extension": ".py",
   "mimetype": "text/x-python",
   "name": "python",
   "nbconvert_exporter": "python",
   "pygments_lexer": "ipython3",
   "version": "3.5.5"
  }
 },
 "nbformat": 4,
 "nbformat_minor": 2
}
