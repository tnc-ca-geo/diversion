{
 "cells": [
  {
   "cell_type": "code",
   "execution_count": null,
   "metadata": {},
   "outputs": [],
   "source": [
    "# Import data from sample files, modify, and export to new table"
   ]
  },
  {
   "cell_type": "code",
   "execution_count": 1,
   "metadata": {},
   "outputs": [],
   "source": [
    "import pandas as pd\n",
    "import os.path"
   ]
  },
  {
   "cell_type": "code",
   "execution_count": 2,
   "metadata": {},
   "outputs": [],
   "source": [
    "insample = os.path.join( os.getcwd(), '..', 'samples\\\\sites.csv' )\n",
    "outname = os.path.join( os.getcwd(), '..', 'sites.csv' )"
   ]
  },
  {
   "cell_type": "code",
   "execution_count": 3,
   "metadata": {},
   "outputs": [],
   "source": [
    "df = pd.read_csv(insample)"
   ]
  },
  {
   "cell_type": "code",
   "execution_count": 4,
   "metadata": {},
   "outputs": [
    {
     "data": {
      "text/html": [
       "<div>\n",
       "<style scoped>\n",
       "    .dataframe tbody tr th:only-of-type {\n",
       "        vertical-align: middle;\n",
       "    }\n",
       "\n",
       "    .dataframe tbody tr th {\n",
       "        vertical-align: top;\n",
       "    }\n",
       "\n",
       "    .dataframe thead th {\n",
       "        text-align: right;\n",
       "    }\n",
       "</style>\n",
       "<table border=\"1\" class=\"dataframe\">\n",
       "  <thead>\n",
       "    <tr style=\"text-align: right;\">\n",
       "      <th></th>\n",
       "      <th>SiteCode</th>\n",
       "      <th>SiteName</th>\n",
       "      <th>Latitude</th>\n",
       "      <th>Longitude</th>\n",
       "      <th>LatLongDatumSRSName</th>\n",
       "      <th>Elevation_m</th>\n",
       "      <th>VerticalDatum</th>\n",
       "      <th>LocalX</th>\n",
       "      <th>LocalY</th>\n",
       "      <th>LocalProjectionSRSName</th>\n",
       "      <th>PosAccuracy_m</th>\n",
       "      <th>State</th>\n",
       "      <th>County</th>\n",
       "      <th>Comments</th>\n",
       "      <th>SiteType</th>\n",
       "    </tr>\n",
       "  </thead>\n",
       "  <tbody>\n",
       "    <tr>\n",
       "      <th>0</th>\n",
       "      <td>Siphon7</td>\n",
       "      <td>StatenX experimental station at Siphon 7 on St...</td>\n",
       "      <td>38.1698</td>\n",
       "      <td>-121.527375</td>\n",
       "      <td>WGS84</td>\n",
       "      <td>NaN</td>\n",
       "      <td>NaN</td>\n",
       "      <td>NaN</td>\n",
       "      <td>NaN</td>\n",
       "      <td>NaN</td>\n",
       "      <td>NaN</td>\n",
       "      <td>California</td>\n",
       "      <td>San Joaquin</td>\n",
       "      <td>Site where multiple water meters are installed...</td>\n",
       "      <td>Diversion</td>\n",
       "    </tr>\n",
       "  </tbody>\n",
       "</table>\n",
       "</div>"
      ],
      "text/plain": [
       "  SiteCode                                           SiteName  Latitude  \\\n",
       "0  Siphon7  StatenX experimental station at Siphon 7 on St...   38.1698   \n",
       "\n",
       "    Longitude LatLongDatumSRSName  Elevation_m  VerticalDatum  LocalX  LocalY  \\\n",
       "0 -121.527375               WGS84          NaN            NaN     NaN     NaN   \n",
       "\n",
       "   LocalProjectionSRSName  PosAccuracy_m       State       County  \\\n",
       "0                     NaN            NaN  California  San Joaquin   \n",
       "\n",
       "                                            Comments   SiteType  \n",
       "0  Site where multiple water meters are installed...  Diversion  "
      ]
     },
     "execution_count": 4,
     "metadata": {},
     "output_type": "execute_result"
    }
   ],
   "source": [
    "df"
   ]
  },
  {
   "cell_type": "code",
   "execution_count": 5,
   "metadata": {},
   "outputs": [
    {
     "data": {
      "text/html": [
       "<div>\n",
       "<style scoped>\n",
       "    .dataframe tbody tr th:only-of-type {\n",
       "        vertical-align: middle;\n",
       "    }\n",
       "\n",
       "    .dataframe tbody tr th {\n",
       "        vertical-align: top;\n",
       "    }\n",
       "\n",
       "    .dataframe thead th {\n",
       "        text-align: right;\n",
       "    }\n",
       "</style>\n",
       "<table border=\"1\" class=\"dataframe\">\n",
       "  <thead>\n",
       "    <tr style=\"text-align: right;\">\n",
       "      <th></th>\n",
       "      <th>VariableCode</th>\n",
       "      <th>VariableName</th>\n",
       "      <th>Speciation</th>\n",
       "      <th>VariableUnitsName</th>\n",
       "      <th>SampleMedium</th>\n",
       "      <th>ValueType</th>\n",
       "      <th>IsRegular</th>\n",
       "      <th>TimeSupport</th>\n",
       "      <th>TimeUnitsName</th>\n",
       "      <th>DataType</th>\n",
       "      <th>GeneralCategory</th>\n",
       "      <th>NoDataValue</th>\n",
       "    </tr>\n",
       "  </thead>\n",
       "  <tbody>\n",
       "    <tr>\n",
       "      <th>1</th>\n",
       "      <td>GPM_5min</td>\n",
       "      <td>Discharge</td>\n",
       "      <td>Not Applicable</td>\n",
       "      <td>gallons per minute</td>\n",
       "      <td>Surface water</td>\n",
       "      <td>Field Observation</td>\n",
       "      <td>True</td>\n",
       "      <td>5</td>\n",
       "      <td>minute</td>\n",
       "      <td>Continuous</td>\n",
       "      <td>Hydrology</td>\n",
       "      <td>-9999</td>\n",
       "    </tr>\n",
       "  </tbody>\n",
       "</table>\n",
       "</div>"
      ],
      "text/plain": [
       "  VariableCode VariableName      Speciation   VariableUnitsName  \\\n",
       "1     GPM_5min    Discharge  Not Applicable  gallons per minute   \n",
       "\n",
       "    SampleMedium          ValueType  IsRegular  TimeSupport TimeUnitsName  \\\n",
       "1  Surface water  Field Observation       True            5        minute   \n",
       "\n",
       "     DataType GeneralCategory  NoDataValue  \n",
       "1  Continuous       Hydrology        -9999  "
      ]
     },
     "execution_count": 5,
     "metadata": {},
     "output_type": "execute_result"
    }
   ],
   "source": [
    "# Modify the sample table.  In this case, add in 5 new sites\n",
    "df = df.drop(df.index[[0,2]])\n",
    "df"
   ]
  },
  {
   "cell_type": "code",
   "execution_count": 8,
   "metadata": {},
   "outputs": [],
   "source": [
    "# Save as a new text file\n",
    "df.to_csv(outname, encoding='utf-8', index=False)"
   ]
  },
  {
   "cell_type": "code",
   "execution_count": null,
   "metadata": {},
   "outputs": [],
   "source": []
  }
 ],
 "metadata": {
  "kernelspec": {
   "display_name": "Python (diversion)",
   "language": "python",
   "name": "diversion"
  },
  "language_info": {
   "codemirror_mode": {
    "name": "ipython",
    "version": 3
   },
   "file_extension": ".py",
   "mimetype": "text/x-python",
   "name": "python",
   "nbconvert_exporter": "python",
   "pygments_lexer": "ipython3",
   "version": "3.5.5"
  }
 },
 "nbformat": 4,
 "nbformat_minor": 2
}
